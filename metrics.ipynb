{
 "cells": [
  {
   "cell_type": "code",
   "execution_count": 1,
   "metadata": {},
   "outputs": [],
   "source": [
    "from utils import *\n",
    "import networkx as nx\n",
    "import pandas as pd\n",
    "import numpy as np"
   ]
  },
  {
   "cell_type": "code",
   "execution_count": 3,
   "metadata": {},
   "outputs": [],
   "source": [
    "time_span = ['sep_'+str(date)+'_'+hr for date in range(10, 31) for hr in ['00','08','16']] + ['oct_0'+str(date)+'_'+hr for date in range(1, 9) for hr in ['00','08','16']]"
   ]
  },
  {
   "cell_type": "code",
   "execution_count": 4,
   "metadata": {
    "scrolled": true
   },
   "outputs": [],
   "source": [
    "for i in time_span:\n",
    "    df = pd.read_csv('cleansed_data/edgelists/'+i+'.csv')\n",
    "    df_pr = calc_params(df, when='crisis')\n",
    "    df_pr.to_csv('cleansed_data/crisis_metrics/crisis_'+i+'.csv')\n",
    "    df_pr = calc_params(df, when='baseline')\n",
    "    df_pr.to_csv('cleansed_data/baseline_metrics/baseline_'+i+'.csv')"
   ]
  }
 ],
 "metadata": {
  "kernelspec": {
   "display_name": "Python 2",
   "language": "python",
   "name": "python2"
  },
  "language_info": {
   "codemirror_mode": {
    "name": "ipython",
    "version": 2
   },
   "file_extension": ".py",
   "mimetype": "text/x-python",
   "name": "python",
   "nbconvert_exporter": "python",
   "pygments_lexer": "ipython2",
   "version": "2.7.15"
  }
 },
 "nbformat": 4,
 "nbformat_minor": 2
}
